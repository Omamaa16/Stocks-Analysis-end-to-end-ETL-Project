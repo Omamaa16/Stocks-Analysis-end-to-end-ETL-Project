{
 "cells": [
  {
   "cell_type": "markdown",
   "id": "ea80e3ab",
   "metadata": {},
   "source": [
    "# Installing the opendatasets api as a call to the Kaggle"
   ]
  },
  {
   "cell_type": "code",
   "execution_count": 1,
   "id": "08ee2fb3",
   "metadata": {},
   "outputs": [
    {
     "name": "stdout",
     "output_type": "stream",
     "text": [
      "Requirement already satisfied: opendatasets in c:\\users\\omama\\anaconda3\\lib\\site-packages (0.1.22)\n",
      "Requirement already satisfied: tqdm in c:\\users\\omama\\anaconda3\\lib\\site-packages (from opendatasets) (4.65.0)\n",
      "Requirement already satisfied: kaggle in c:\\users\\omama\\anaconda3\\lib\\site-packages (from opendatasets) (1.6.17)\n",
      "Requirement already satisfied: click in c:\\users\\omama\\anaconda3\\lib\\site-packages (from opendatasets) (8.0.4)\n",
      "Requirement already satisfied: colorama in c:\\users\\omama\\anaconda3\\lib\\site-packages (from click->opendatasets) (0.4.6)\n",
      "Requirement already satisfied: six>=1.10 in c:\\users\\omama\\anaconda3\\lib\\site-packages (from kaggle->opendatasets) (1.16.0)\n",
      "Requirement already satisfied: certifi>=2023.7.22 in c:\\users\\omama\\anaconda3\\lib\\site-packages (from kaggle->opendatasets) (2023.7.22)\n",
      "Requirement already satisfied: python-dateutil in c:\\users\\omama\\anaconda3\\lib\\site-packages (from kaggle->opendatasets) (2.8.2)\n",
      "Requirement already satisfied: requests in c:\\users\\omama\\anaconda3\\lib\\site-packages (from kaggle->opendatasets) (2.31.0)\n",
      "Requirement already satisfied: python-slugify in c:\\users\\omama\\anaconda3\\lib\\site-packages (from kaggle->opendatasets) (5.0.2)\n",
      "Requirement already satisfied: urllib3 in c:\\users\\omama\\anaconda3\\lib\\site-packages (from kaggle->opendatasets) (1.26.16)\n",
      "Requirement already satisfied: bleach in c:\\users\\omama\\anaconda3\\lib\\site-packages (from kaggle->opendatasets) (4.1.0)\n",
      "Requirement already satisfied: packaging in c:\\users\\omama\\anaconda3\\lib\\site-packages (from bleach->kaggle->opendatasets) (23.1)\n",
      "Requirement already satisfied: webencodings in c:\\users\\omama\\anaconda3\\lib\\site-packages (from bleach->kaggle->opendatasets) (0.5.1)\n",
      "Requirement already satisfied: text-unidecode>=1.3 in c:\\users\\omama\\anaconda3\\lib\\site-packages (from python-slugify->kaggle->opendatasets) (1.3)\n",
      "Requirement already satisfied: charset-normalizer<4,>=2 in c:\\users\\omama\\anaconda3\\lib\\site-packages (from requests->kaggle->opendatasets) (2.0.4)\n",
      "Requirement already satisfied: idna<4,>=2.5 in c:\\users\\omama\\anaconda3\\lib\\site-packages (from requests->kaggle->opendatasets) (3.4)\n",
      "Skipping, found downloaded files in \".\\sp-500-stocks\" (use force=True to force download)\n"
     ]
    }
   ],
   "source": [
    "!pip install opendatasets\n",
    "\n",
    "import opendatasets as ods\n",
    "ods.download(\"https://www.kaggle.com/datasets/andrewmvd/sp-500-stocks\")"
   ]
  },
  {
   "cell_type": "markdown",
   "id": "12fc05db",
   "metadata": {},
   "source": [
    "# Extraction\n",
    "\n"
   ]
  },
  {
   "cell_type": "code",
   "execution_count": 35,
   "id": "5d994f40",
   "metadata": {},
   "outputs": [
    {
     "data": {
      "text/plain": [
       "Date        Symbol  Adj Close   Close       High        Low         Open        Volume   \n",
       "2010-01-04  A       20.084949   22.389128   22.625179   22.267525   22.453505   3815561.0    1\n",
       "2019-12-27  MET     43.059624   50.830002   51.340000   50.799999   51.340000   2578200.0    1\n",
       "            MDLZ    49.610081   55.279999   55.330002   54.799999   54.930000   4229300.0    1\n",
       "            MCO     229.768723  239.300003  240.309998  238.190002  239.809998  551100.0     1\n",
       "            MCK     136.506088  139.440002  139.919998  137.860001  139.339996  570300.0     1\n",
       "                                                                                            ..\n",
       "2015-02-27  VRSN    64.019997   64.019997   64.900002   63.970001   64.599998   1097100.0    1\n",
       "            VRSK    69.294281   71.809998   72.879997   71.750000   72.639999   813200.0     1\n",
       "            VMC     76.624062   83.000000   83.190002   82.209999   82.389999   852700.0     1\n",
       "            VLO     42.117359   61.689999   62.740002   61.540001   61.970001   8224900.0    1\n",
       "2024-09-10  ZTS     191.360001  191.360001  192.770004  187.820007  191.729996  2675605.0    1\n",
       "Name: count, Length: 1764209, dtype: int64"
      ]
     },
     "execution_count": 35,
     "metadata": {},
     "output_type": "execute_result"
    }
   ],
   "source": [
    "import pandas as pd\n",
    "import numpy as np\n",
    "import os\n",
    "\n",
    "stock_data = pd.read_csv(\"C:/Users/Omama/Desktop/sp-500-stocks/sp500_stocks.csv\")\n",
    "stock_data.value_counts()\n",
    "#company_data = pd.read_csv(\"C:/Users/Omama/Desktop/sp-500-stocks/sp500_companies.csv\")"
   ]
  },
  {
   "cell_type": "markdown",
   "id": "36c49627",
   "metadata": {},
   "source": [
    "# Data Analysis"
   ]
  },
  {
   "cell_type": "code",
   "execution_count": 3,
   "id": "164bfbd4",
   "metadata": {},
   "outputs": [
    {
     "name": "stdout",
     "output_type": "stream",
     "text": [
      "<class 'pandas.core.frame.DataFrame'>\n",
      "RangeIndex: 1859088 entries, 0 to 1859087\n",
      "Data columns (total 8 columns):\n",
      " #   Column     Dtype  \n",
      "---  ------     -----  \n",
      " 0   Date       object \n",
      " 1   Symbol     object \n",
      " 2   Adj Close  float64\n",
      " 3   Close      float64\n",
      " 4   High       float64\n",
      " 5   Low        float64\n",
      " 6   Open       float64\n",
      " 7   Volume     float64\n",
      "dtypes: float64(6), object(2)\n",
      "memory usage: 113.5+ MB\n",
      "None\n",
      "<class 'pandas.core.frame.DataFrame'>\n",
      "RangeIndex: 503 entries, 0 to 502\n",
      "Data columns (total 16 columns):\n",
      " #   Column               Non-Null Count  Dtype  \n",
      "---  ------               --------------  -----  \n",
      " 0   Exchange             503 non-null    object \n",
      " 1   Symbol               503 non-null    object \n",
      " 2   Shortname            503 non-null    object \n",
      " 3   Longname             503 non-null    object \n",
      " 4   Sector               503 non-null    object \n",
      " 5   Industry             503 non-null    object \n",
      " 6   Currentprice         503 non-null    float64\n",
      " 7   Marketcap            503 non-null    int64  \n",
      " 8   Ebitda               474 non-null    float64\n",
      " 9   Revenuegrowth        501 non-null    float64\n",
      " 10  City                 503 non-null    object \n",
      " 11  State                484 non-null    object \n",
      " 12  Country              503 non-null    object \n",
      " 13  Fulltimeemployees    498 non-null    float64\n",
      " 14  Longbusinesssummary  503 non-null    object \n",
      " 15  Weight               503 non-null    float64\n",
      "dtypes: float64(5), int64(1), object(10)\n",
      "memory usage: 63.0+ KB\n",
      "None\n"
     ]
    }
   ],
   "source": [
    "#print(stock_data.head()) #change the date type\n",
    "#print(company_data.head()) #make a new col of name, remove desc and ebidta, change employees in int and remove.0\n",
    "\n",
    "print(stock_data.info())\n",
    "print(company_data.info())\n",
    "\n",
    "#print(stock_data.describe())\n",
    "#print(company_data.describe())"
   ]
  },
  {
   "cell_type": "markdown",
   "id": "6e6b24f7",
   "metadata": {},
   "source": [
    "### Converting the data types"
   ]
  },
  {
   "cell_type": "code",
   "execution_count": 4,
   "id": "5843d56a",
   "metadata": {},
   "outputs": [
    {
     "name": "stdout",
     "output_type": "stream",
     "text": [
      "Date          object\n",
      "Symbol        object\n",
      "Adj Close    float64\n",
      "Close        float64\n",
      "High         float64\n",
      "Low          float64\n",
      "Open         float64\n",
      "Volume       float64\n",
      "dtype: object\n",
      "Exchange                object\n",
      "Symbol                  object\n",
      "Shortname               object\n",
      "Longname                object\n",
      "Sector                  object\n",
      "Industry                object\n",
      "Currentprice           float64\n",
      "Marketcap                int64\n",
      "Ebitda                 float64\n",
      "Revenuegrowth          float64\n",
      "City                    object\n",
      "State                   object\n",
      "Country                 object\n",
      "Fulltimeemployees      float64\n",
      "Longbusinesssummary     object\n",
      "Weight                 float64\n",
      "dtype: object\n",
      "0\n",
      "datetime64[ns]\n"
     ]
    }
   ],
   "source": [
    "#assesing the data types for both the tables\n",
    "print(stock_data.dtypes)\n",
    "print(company_data.dtypes)\n",
    "\n",
    "#converting the \"Date\" column from the stock_data to the datetime format\n",
    "print(stock_data[\"Date\"].isnull().sum())\n",
    "stock_data[\"Date\"] = pd.to_datetime(stock_data[\"Date\"])\n",
    "print(stock_data[\"Date\"].dtypes)"
   ]
  },
  {
   "cell_type": "markdown",
   "id": "2c6f05c8",
   "metadata": {},
   "source": [
    "### Checking and replacing/dropping the null values"
   ]
  },
  {
   "cell_type": "code",
   "execution_count": 5,
   "id": "0c520b9b",
   "metadata": {},
   "outputs": [
    {
     "name": "stdout",
     "output_type": "stream",
     "text": [
      "Date             0\n",
      "Symbol           0\n",
      "Adj Close    94879\n",
      "Close        94879\n",
      "High         94879\n",
      "Low          94879\n",
      "Open         94879\n",
      "Volume       94879\n",
      "dtype: int64\n"
     ]
    }
   ],
   "source": [
    "#checking for the stock_data's null values\n",
    "print(stock_data.isnull().sum())\n",
    "\n",
    "#checking for the combinations of the \"Symbol\" and \"Year\" that produces all the nulls for the additive data\n",
    "nulls = stock_data[[\"Volume\", \"Adj Close\", \"Close\", \"High\", \"Low\", \"Open\"]].isnull()\n",
    "stock_data[\"Year\"] = stock_data[\"Date\"].dt.year\n",
    "null_data = stock_data.loc[nulls.any(axis=1), [\"Symbol\", \"Year\"]]\n",
    "\n",
    "#dropping the null values\n",
    "stock_data.dropna(subset=[\"Volume\", \"Adj Close\", \"Close\", \"High\", \"Low\", \"Open\"], inplace=True)\n"
   ]
  },
  {
   "cell_type": "code",
   "execution_count": 6,
   "id": "8ba0bf76",
   "metadata": {},
   "outputs": [
    {
     "name": "stdout",
     "output_type": "stream",
     "text": [
      "Exchange                0\n",
      "Symbol                  0\n",
      "Shortname               0\n",
      "Longname                0\n",
      "Sector                  0\n",
      "Industry                0\n",
      "Currentprice            0\n",
      "Marketcap               0\n",
      "Ebitda                 29\n",
      "Revenuegrowth           2\n",
      "City                    0\n",
      "State                  19\n",
      "Country                 0\n",
      "Fulltimeemployees       5\n",
      "Longbusinesssummary     0\n",
      "Weight                  0\n",
      "dtype: int64\n",
      "             City State         Country\n",
      "34         Woking   NaN  United Kingdom\n",
      "35         Dublin   NaN         Ireland\n",
      "80         Zurich   NaN     Switzerland\n",
      "84         Dublin   NaN         Ireland\n",
      "121        Swords   NaN         Ireland\n",
      "122        Dublin   NaN         Ireland\n",
      "161     Eindhoven   NaN     Netherlands\n",
      "197          Cork   NaN         Ireland\n",
      "208  Schaffhausen   NaN     Switzerland\n",
      "214      Pembroke   NaN         Bermuda\n",
      "257  Schaffhausen   NaN     Switzerland\n",
      "280        London   NaN  United Kingdom\n",
      "334        Dublin   NaN         Ireland\n",
      "345     Singapore   NaN       Singapore\n",
      "406      Hamilton   NaN         Bermuda\n",
      "410        Zurich   NaN     Switzerland\n",
      "418        Dublin   NaN         Ireland\n",
      "432        London   NaN  United Kingdom\n",
      "453        Dublin   NaN         Ireland\n",
      "165    Truist Financial Corporation\n",
      "344     Western Digital Corporation\n",
      "Name: Shortname, dtype: object\n",
      "     Revenuegrowth                     Shortname\n",
      "165            NaN  Truist Financial Corporation\n",
      "344            NaN   Western Digital Corporation\n",
      "     Revenuegrowth                     Shortname        Country\n",
      "165            NaN  Truist Financial Corporation  United States\n",
      "344            NaN   Western Digital Corporation  United States\n"
     ]
    }
   ],
   "source": [
    "#checking for the company_data's null values\n",
    "print(company_data.isnull().sum())\n",
    "\n",
    "#checking for the countries having the null states because the dataset has 19 null states\n",
    "print(company_data.loc[company_data[\"State\"].isnull(), [\"City\", \"State\", \"Country\"]])\n",
    "\n",
    "#filling the null states with a conditional \"No State\" value\n",
    "company_data[\"State\"].fillna(\"No State\", inplace=True)\n",
    "\n",
    "#checking the null revenuegrowth\n",
    "print(company_data.loc[company_data[\"Revenuegrowth\"].isnull(), \"Shortname\"])\n",
    "print(company_data.loc[(company_data[\"Shortname\"] == \"Truist Financial Corporation\") | (company_data[\"Shortname\"] == \"Western Digital Corporation\"), [\"Revenuegrowth\", \"Shortname\"]])\n",
    "\n",
    "#replacing the revenuegrowth by the mean of the revenue growth of the companies lying in the same respective cities of both\n",
    "print(company_data.loc[(company_data[\"Shortname\"] == \"Truist Financial Corporation\") | (company_data[\"Shortname\"] == \"Western Digital Corporation\"), [\"Revenuegrowth\", \"Shortname\", \"Country\"]]) #checking the country for the nulls, which happnes to be the US\n",
    "mean_rev_growth_USA = company_data.loc[company_data[\"Country\"] == \"United States\", \"Revenuegrowth\"].mean()\n",
    "company_data[\"Revenuegrowth\"].fillna(mean_rev_growth_USA, inplace=True)\n"
   ]
  },
  {
   "cell_type": "markdown",
   "id": "82419cf8",
   "metadata": {},
   "source": [
    "### Dropping duplicates"
   ]
  },
  {
   "cell_type": "code",
   "execution_count": 7,
   "id": "32469b1f",
   "metadata": {},
   "outputs": [
    {
     "name": "stdout",
     "output_type": "stream",
     "text": [
      "Empty DataFrame\n",
      "Columns: [Date, Symbol, Adj Close, Close, High, Low, Open, Volume, Year]\n",
      "Index: []\n",
      "Empty DataFrame\n",
      "Columns: [Exchange, Symbol, Shortname, Longname, Sector, Industry, Currentprice, Marketcap, Ebitda, Revenuegrowth, City, State, Country, Fulltimeemployees, Longbusinesssummary, Weight]\n",
      "Index: []\n"
     ]
    }
   ],
   "source": [
    "#checking for the duplicates \n",
    "print(stock_data[stock_data.duplicated()])\n",
    "print(company_data[company_data.duplicated()])\n"
   ]
  },
  {
   "cell_type": "markdown",
   "id": "146fe0cd",
   "metadata": {},
   "source": [
    "# Data Transformation"
   ]
  },
  {
   "cell_type": "markdown",
   "id": "087fdcea",
   "metadata": {},
   "source": [
    "### Dropping Columns"
   ]
  },
  {
   "cell_type": "code",
   "execution_count": 8,
   "id": "2a83888b",
   "metadata": {},
   "outputs": [],
   "source": [
    "#dropping irrelevant columns from the company_data\n",
    "company_data.drop(columns=[\"Longname\", \"Ebitda\", \"Fulltimeemployees\", \"Longbusinesssummary\", \"Sector\"], inplace=True)\n"
   ]
  },
  {
   "cell_type": "markdown",
   "id": "e965c6dd",
   "metadata": {},
   "source": [
    "### Renaming columns"
   ]
  },
  {
   "cell_type": "code",
   "execution_count": 9,
   "id": "2aafa424",
   "metadata": {},
   "outputs": [
    {
     "name": "stdout",
     "output_type": "stream",
     "text": [
      "Index(['Date', 'Symbol', 'Dividends', 'Price_at_Closing', 'Max_Value',\n",
      "       'Min_Value', 'Price_at_Opening', 'Volume', 'Year'],\n",
      "      dtype='object')\n",
      "Index(['Exchange', 'Symbol', 'Name', 'Industry', 'Currentprice', 'Marketcap',\n",
      "       'Revenuegrowth', 'City', 'State', 'Country', 'Weight'],\n",
      "      dtype='object')\n"
     ]
    }
   ],
   "source": [
    "#renaming columns in the stock_data\n",
    "stock_data.rename(columns={\"Close\":\"Price_at_Closing\", \"Adj Close\":\"Dividends\", \"High\":\"Max_Value\", \"Low\":\"Min_Value\", \"Open\":\"Price_at_Opening\"}, inplace=True)\n",
    "print(stock_data.columns)\n",
    "\n",
    "#renaming columns in the company_data\n",
    "company_data.rename(columns={\"Shortname\":\"Name\"}, inplace=True)\n",
    "print(company_data.columns)"
   ]
  },
  {
   "cell_type": "markdown",
   "id": "789bc242",
   "metadata": {},
   "source": [
    "### Rounding Values"
   ]
  },
  {
   "cell_type": "code",
   "execution_count": 28,
   "id": "4fe1a47a",
   "metadata": {},
   "outputs": [
    {
     "name": "stdout",
     "output_type": "stream",
     "text": [
      "    Exchange Symbol                     Name                        Industry  \\\n",
      "0        NMS   AAPL               Apple Inc.            Consumer Electronics   \n",
      "1        NMS   MSFT    Microsoft Corporation       Software - Infrastructure   \n",
      "2        NMS   NVDA       NVIDIA Corporation                  Semiconductors   \n",
      "3        NMS   AMZN         Amazon.com, Inc.                 Internet Retail   \n",
      "4        NMS   GOOG            Alphabet Inc.  Internet Content & Information   \n",
      "..       ...    ...                      ...                             ...   \n",
      "498      NMS   PARA         Paramount Global                   Entertainment   \n",
      "499      NYQ    BWA          BorgWarner Inc.                      Auto Parts   \n",
      "500      NYQ    IVZ              Invesco Ltd                Asset Management   \n",
      "501      NMS   ETSY               Etsy, Inc.                 Internet Retail   \n",
      "502      NYQ   BBWI  Bath & Body Works, Inc.                Specialty Retail   \n",
      "\n",
      "     Currentprice      Marketcap  Revenuegrowth           City State  \\\n",
      "0          220.11  3346574606336           0.05      Cupertino    CA   \n",
      "1          414.20  3078765150208           0.15        Redmond    WA   \n",
      "2          108.10  2651692990464           1.22    Santa Clara    CA   \n",
      "3          179.55  1884484927488           0.10        Seattle    WA   \n",
      "4          150.01  1841027743744           0.14  Mountain View    CA   \n",
      "..            ...            ...            ...            ...   ...   \n",
      "498         10.09     7190467072          -0.10       New York    NY   \n",
      "499         31.56     7188389376          -0.02   Auburn Hills    MI   \n",
      "500         15.87     7142007808           0.03        Atlanta    GA   \n",
      "501         52.58     6033660416           0.03       Brooklyn    NY   \n",
      "502         26.71     5852481536          -0.02       Columbus    OH   \n",
      "\n",
      "           Country  Weight  \n",
      "0    United States    0.07  \n",
      "1    United States    0.06  \n",
      "2    United States    0.05  \n",
      "3    United States    0.04  \n",
      "4    United States    0.04  \n",
      "..             ...     ...  \n",
      "498  United States    0.00  \n",
      "499  United States    0.00  \n",
      "500  United States    0.00  \n",
      "501  United States    0.00  \n",
      "502  United States    0.00  \n",
      "\n",
      "[503 rows x 11 columns]\n"
     ]
    }
   ],
   "source": [
    "#rounding the values\n",
    "stock_data = stock_data.round(2)\n",
    "company_data = company_data.round(2)\n",
    "print(company_data)"
   ]
  },
  {
   "cell_type": "markdown",
   "id": "e303b971",
   "metadata": {},
   "source": [
    "# Migration to PostgreSQL"
   ]
  },
  {
   "cell_type": "code",
   "execution_count": 24,
   "id": "6219f57f",
   "metadata": {},
   "outputs": [
    {
     "name": "stdout",
     "output_type": "stream",
     "text": [
      "Requirement already satisfied: psycopg2-binary in c:\\users\\omama\\anaconda3\\lib\\site-packages (2.9.9)\n",
      "Requirement already satisfied: sqlalchemy in c:\\users\\omama\\anaconda3\\lib\\site-packages (1.4.39)\n",
      "Requirement already satisfied: greenlet!=0.4.17 in c:\\users\\omama\\anaconda3\\lib\\site-packages (from sqlalchemy) (2.0.1)\n"
     ]
    }
   ],
   "source": [
    "!pip install psycopg2-binary sqlalchemy\n"
   ]
  },
  {
   "cell_type": "code",
   "execution_count": 25,
   "id": "d8ba6dd1",
   "metadata": {},
   "outputs": [],
   "source": [
    "from sqlalchemy import create_engine\n",
    "\n",
    "db_user = 'postgres'\n",
    "db_password = 'abs123'\n",
    "db_host = 'localhost'\n",
    "db_port = '5432'\n",
    "db_name = 'dailystocks'\n",
    "\n",
    "#Connection string\n",
    "connection_string = f\"postgresql://{db_user}:{db_password}@{db_host}:{db_port}/{db_name}\"\n",
    "\n",
    "#SQLAlchemy engine\n",
    "engine = create_engine(connection_string)\n"
   ]
  },
  {
   "cell_type": "code",
   "execution_count": 29,
   "id": "8539bdd6",
   "metadata": {},
   "outputs": [
    {
     "name": "stdout",
     "output_type": "stream",
     "text": [
      "done\n"
     ]
    }
   ],
   "source": [
    "stock_data.to_sql(\"stocks\", engine, if_exists=\"append\", index=False)\n",
    "#company_data.to_sql(\"companies\", engine, if_exists=\"append\", index=False)\n",
    "\n",
    "print(\"done\")"
   ]
  },
  {
   "cell_type": "code",
   "execution_count": 32,
   "id": "8402b272",
   "metadata": {},
   "outputs": [
    {
     "name": "stdout",
     "output_type": "stream",
     "text": [
      "Exchange  Symbol  Name                             Industry                                  Currentprice  Marketcap     Revenuegrowth  City        State  Country        Weight\n",
      "BTS       CBOE    Cboe Global Markets, Inc.        Financial Data & Stock Exchanges          211.81        22162528256    0.07          Chicago     IL     United States  0.0       1\n",
      "NYQ       IT      Gartner, Inc.                    Information Technology Services           499.57        38496616448    0.06          Stamford    CT     United States  0.0       1\n",
      "          KKR     KKR & Co. Inc.                   Asset Management                          118.06        108852264960   0.12          New York    NY     United States  0.0       1\n",
      "          KIM     Kimco Realty Corporation (HC)    REIT - Retail                             23.37         15753998336    0.13          Jericho     NY     United States  0.0       1\n",
      "          KEYS    Keysight Technologies Inc.       Scientific & Technical Instruments        147.38        25576769536   -0.12          Santa Rosa  CA     United States  0.0       1\n",
      "                                                                                                                                                                                   ..\n",
      "          AIZ     Assurant, Inc.                   Insurance - Property & Casualty           191.77        9932401664     0.07          Atlanta     GA     United States  0.0       1\n",
      "          AIG     American International Group, I  Insurance - Diversified                   72.31         46564093952   -0.11          New York    NY     United States  0.0       1\n",
      "          AFL     AFLAC Incorporated               Insurance - Life                          108.44        60729221120   -0.01          Columbus    GA     United States  0.0       1\n",
      "          AES     The AES Corporation              Utilities - Diversified                   16.44         11687591936   -0.03          Arlington   VA     United States  0.0       1\n",
      "          ZTS     Zoetis Inc.                      Drug Manufacturers - Specialty & Generic  191.36        86695837696    0.08          Parsippany  NJ     United States  0.0       1\n",
      "Name: count, Length: 503, dtype: int64\n"
     ]
    }
   ],
   "source": [
    "print(company_data.value_counts())"
   ]
  },
  {
   "cell_type": "code",
   "execution_count": null,
   "id": "e9a12995",
   "metadata": {},
   "outputs": [],
   "source": []
  }
 ],
 "metadata": {
  "kernelspec": {
   "display_name": "Python 3 (ipykernel)",
   "language": "python",
   "name": "python3"
  },
  "language_info": {
   "codemirror_mode": {
    "name": "ipython",
    "version": 3
   },
   "file_extension": ".py",
   "mimetype": "text/x-python",
   "name": "python",
   "nbconvert_exporter": "python",
   "pygments_lexer": "ipython3",
   "version": "3.11.5"
  }
 },
 "nbformat": 4,
 "nbformat_minor": 5
}
